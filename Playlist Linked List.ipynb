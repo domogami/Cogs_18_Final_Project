{
 "cells": [
  {
   "cell_type": "markdown",
   "metadata": {},
   "source": [
    "# Cognitive Science 18 Final Project Playlist"
   ]
  },
  {
   "cell_type": "markdown",
   "metadata": {},
   "source": [
    "Github: https://github.com/domogami/Cogs_18_Final_Project.git"
   ]
  },
  {
   "cell_type": "markdown",
   "metadata": {},
   "source": [
    "**Overview: In this project, I created a my own implementation of a doubly linked list structure**\n",
    "\n",
    "The linked list is a playlist that holds nodes which are songs, each with a unique attribute of a song name."
   ]
  },
  {
   "cell_type": "markdown",
   "metadata": {},
   "source": [
    "A doubly linked list is a data structure that holds connected nodes, each with data. A doubly linked list is different from a standard linked list because it contains links to the next nodes and the preveious nodes. I have chosen to create my own implemenation based on the idea and write my own code for the project to challenge myself. I have added unique functions that are specific to my implemenation of a doubly linked list using the idea of a playlist. \n",
    "\n",
    "One such function is the randomSong function that selects a random node from the linked list and returns the string"
   ]
  },
  {
   "cell_type": "code",
   "execution_count": 14,
   "metadata": {},
   "outputs": [],
   "source": [
    "from my_module.functions import *"
   ]
  },
  {
   "cell_type": "code",
   "execution_count": 26,
   "metadata": {},
   "outputs": [
    {
     "ename": "NameError",
     "evalue": "name 'firstSong' is not defined",
     "output_type": "error",
     "traceback": [
      "\u001b[0;31m---------------------------------------------------------------------------\u001b[0m",
      "\u001b[0;31mNameError\u001b[0m                                 Traceback (most recent call last)",
      "\u001b[0;32m<ipython-input-26-caddbcf03667>\u001b[0m in \u001b[0;36m<module>\u001b[0;34m\u001b[0m\n\u001b[1;32m      1\u001b[0m \u001b[0mAwesomeMixtape\u001b[0m \u001b[0;34m=\u001b[0m \u001b[0mPlaylist\u001b[0m\u001b[0;34m(\u001b[0m\u001b[0;34m)\u001b[0m\u001b[0;34m\u001b[0m\u001b[0;34m\u001b[0m\u001b[0m\n\u001b[1;32m      2\u001b[0m \u001b[0mAwesomeMixtape\u001b[0m\u001b[0;34m.\u001b[0m\u001b[0maddSong\u001b[0m\u001b[0;34m(\u001b[0m\u001b[0;34m\"Song1\"\u001b[0m\u001b[0;34m)\u001b[0m\u001b[0;34m\u001b[0m\u001b[0;34m\u001b[0m\u001b[0m\n\u001b[0;32m----> 3\u001b[0;31m \u001b[0mAwesomeMixtape\u001b[0m\u001b[0;34m.\u001b[0m\u001b[0maddSong\u001b[0m\u001b[0;34m(\u001b[0m\u001b[0;34m\"Song2\"\u001b[0m\u001b[0;34m)\u001b[0m\u001b[0;34m\u001b[0m\u001b[0;34m\u001b[0m\u001b[0m\n\u001b[0m\u001b[1;32m      4\u001b[0m \u001b[0mAwesomeMixtape\u001b[0m\u001b[0;34m.\u001b[0m\u001b[0maddSong\u001b[0m\u001b[0;34m(\u001b[0m\u001b[0;34m\"Song3\"\u001b[0m\u001b[0;34m)\u001b[0m\u001b[0;34m\u001b[0m\u001b[0;34m\u001b[0m\u001b[0m\n\u001b[1;32m      5\u001b[0m \u001b[0mAwesomeMixtape\u001b[0m\u001b[0;34m.\u001b[0m\u001b[0maddSong\u001b[0m\u001b[0;34m(\u001b[0m\u001b[0;34m\"Song4\"\u001b[0m\u001b[0;34m)\u001b[0m\u001b[0;34m\u001b[0m\u001b[0;34m\u001b[0m\u001b[0m\n",
      "\u001b[0;32m~/Documents/GitHub/Cogs_18_Final_Project/my_module/functions.py\u001b[0m in \u001b[0;36maddSong\u001b[0;34m(self, songName)\u001b[0m\n\u001b[1;32m     21\u001b[0m         \u001b[0msong_to_add\u001b[0m\u001b[0;34m.\u001b[0m\u001b[0mnext_song\u001b[0m \u001b[0;34m=\u001b[0m \u001b[0;32mNone\u001b[0m\u001b[0;34m\u001b[0m\u001b[0;34m\u001b[0m\u001b[0m\n\u001b[1;32m     22\u001b[0m \u001b[0;34m\u001b[0m\u001b[0m\n\u001b[0;32m---> 23\u001b[0;31m         \u001b[0;31m# If the playlist is empty make the new song the first song\u001b[0m\u001b[0;34m\u001b[0m\u001b[0;34m\u001b[0m\u001b[0;34m\u001b[0m\u001b[0m\n\u001b[0m\u001b[1;32m     24\u001b[0m         \u001b[0;32mif\u001b[0m \u001b[0;34m(\u001b[0m\u001b[0mself\u001b[0m\u001b[0;34m.\u001b[0m\u001b[0mfirst_song\u001b[0m \u001b[0;32mis\u001b[0m \u001b[0;32mNone\u001b[0m\u001b[0;34m)\u001b[0m\u001b[0;34m:\u001b[0m\u001b[0;34m\u001b[0m\u001b[0;34m\u001b[0m\u001b[0m\n\u001b[1;32m     25\u001b[0m             \u001b[0mself\u001b[0m\u001b[0;34m.\u001b[0m\u001b[0mfirst_song\u001b[0m \u001b[0;34m=\u001b[0m \u001b[0msong_to_add\u001b[0m\u001b[0;34m\u001b[0m\u001b[0;34m\u001b[0m\u001b[0m\n",
      "\u001b[0;31mNameError\u001b[0m: name 'firstSong' is not defined"
     ]
    }
   ],
   "source": [
    "AwesomeMixtape = Playlist()\n",
    "AwesomeMixtape.addSong(\"Song1\")\n",
    "AwesomeMixtape.addSong(\"Song2\")\n",
    "AwesomeMixtape.addSong(\"Song3\")\n",
    "AwesomeMixtape.addSong(\"Song4\")\n"
   ]
  },
  {
   "cell_type": "code",
   "execution_count": null,
   "metadata": {},
   "outputs": [],
   "source": []
  }
 ],
 "metadata": {
  "kernelspec": {
   "display_name": "Python 3",
   "language": "python",
   "name": "python3"
  },
  "language_info": {
   "codemirror_mode": {
    "name": "ipython",
    "version": 3
   },
   "file_extension": ".py",
   "mimetype": "text/x-python",
   "name": "python",
   "nbconvert_exporter": "python",
   "pygments_lexer": "ipython3",
   "version": "3.7.4"
  }
 },
 "nbformat": 4,
 "nbformat_minor": 2
}
